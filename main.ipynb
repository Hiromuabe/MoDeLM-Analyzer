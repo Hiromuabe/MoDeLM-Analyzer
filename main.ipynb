{
 "cells": [
  {
   "cell_type": "code",
   "execution_count": null,
   "id": "c37e8518",
   "metadata": {},
   "outputs": [],
   "source": [
    "# =====================\n",
    "# 0. Imports\n",
    "# =====================\n",
    "import torch\n",
    "import matplotlib.pyplot as plt\n",
    "import gradio as gr\n",
    "from transformers import GPT2Tokenizer, GPT2Model\n",
    "from openai import OpenAI\n",
    "\n",
    "# Import HSMM utilities\n",
    "from models.hsmm_module import HSMM_LDS_Torch, temporal_pool, zscore_torch\n",
    "from models.sae import SparseAutoencoder\n"
   ]
  },
  {
   "cell_type": "code",
   "execution_count": null,
   "id": "7f31c983",
   "metadata": {},
   "outputs": [],
   "source": [
    "# =====================\n",
    "# 1. OpenAI API\n",
    "# =====================\n",
    "# Recommended: set OPENAI_API_KEY in environment variables\n",
    "client = OpenAI(api_key=\"YOUR_API_KEY\")\n"
   ]
  },
  {
   "cell_type": "code",
   "execution_count": null,
   "id": "f6478467",
   "metadata": {},
   "outputs": [],
   "source": [
    "# =====================\n",
    "# 2. Load models\n",
    "# =====================\n",
    "# =====================\n",
    "# 2. Load models\n",
    "# =====================\n",
    "tokenizer = GPT2Tokenizer.from_pretrained(\"gpt2\")\n",
    "gpt2_model = GPT2Model.from_pretrained(\"gpt2\").cuda().eval()\n",
    "\n",
    "# Load pretrained Sparse AutoEncoder (proper way)\n",
    "from models.sae import SparseAutoencoder\n",
    "sae = SparseAutoencoder(input_dim=768, hidden_dim=256, sparsity=1e-3).cuda()\n",
    "sae.load_state_dict(torch.load(\"models/sae_model.pt\", map_location=\"cuda\"))\n",
    "sae.eval()\n",
    "\n",
    "K = 10  # set according to your pretrained model"
   ]
  },
  {
   "cell_type": "code",
   "execution_count": null,
   "id": "e706a068",
   "metadata": {},
   "outputs": [],
   "source": [
    "# =====================\n",
    "# 3. Analysis function\n",
    "# =====================\n",
    "def analyze_and_explain(text):\n",
    "    # --- GPT-2 hidden states ---\n",
    "    inputs = tokenizer(text, return_tensors=\"pt\", truncation=True, max_length=256).to(\"cuda\")\n",
    "    with torch.no_grad():\n",
    "        hidden = gpt2_model(**inputs).last_hidden_state.squeeze(0)\n",
    "        _, z_seq = sae(hidden)\n",
    "\n",
    "    # --- SAE latent sequence ---\n",
    "    z_seq = temporal_pool(z_seq.cpu(), w=5)\n",
    "    Y_art = zscore_torch(z_seq).to(\"cuda\")\n",
    "\n",
    "    # --- HSMM segmentation ---\n",
    "    hsmm = HSMM_LDS_Torch(\n",
    "        K=min(10, K, max(2, Y_art.shape[0] // 2)),\n",
    "        Dmax=10,\n",
    "        obs_dim=Y_art.shape[1],\n",
    "        init_mean_dur=20.0,\n",
    "        allow_self_transition=True,\n",
    "        duration_model=\"negbin\",\n",
    "        device=\"cuda\",\n",
    "        Y_init=Y_art\n",
    "    )\n",
    "    _ = hsmm.fit(Y_art, n_iter=5, verbose=False)\n",
    "    z_example = hsmm.viterbi_decode(Y_art).cpu().numpy()\n",
    "\n",
    "    # --- Visualization ---\n",
    "    fig = plt.figure(figsize=(14, 2))\n",
    "    plt.imshow(z_example[:50].reshape(1, -1), aspect=\"auto\", cmap=\"tab10\")\n",
    "    plt.axis(\"off\")\n",
    "\n",
    "    # --- OpenAI explanation ---\n",
    "    prompt = f\"\"\"\n",
    "    The following text has been segmented into computational modes:\n",
    "    Text: {text}\n",
    "    Mode sequence: {z_example[:50].tolist()}\n",
    "\n",
    "    Please explain how each segment might correspond to syntactic or semantic boundaries.\n",
    "    \"\"\"\n",
    "    response = client.chat.completions.create(\n",
    "        model=\"gpt-4o-mini\",\n",
    "        messages=[\n",
    "            {\"role\": \"user\", \"content\": prompt}\n",
    "        ]\n",
    "    )\n",
    "    explanation = response.choices[0].message.content\n",
    "    return fig, explanation"
   ]
  },
  {
   "cell_type": "code",
   "execution_count": null,
   "id": "e0c40044",
   "metadata": {},
   "outputs": [],
   "source": [
    "# =====================\n",
    "# 4. Gradio Interface\n",
    "# =====================\n",
    "with gr.Blocks() as demo:\n",
    "    gr.Markdown(\"# MoDeLM-Analyzer: Interactive Demo\")\n",
    "    inp = gr.Textbox(lines=3, label=\"Input Text\")\n",
    "    out_fig = gr.Plot(label=\"Mode Visualization\")\n",
    "    out_txt = gr.Markdown(label=\"Explanation\")\n",
    "    run_btn = gr.Button(\"Run\")\n",
    "    run_btn.click(analyze_and_explain, inputs=inp, outputs=[out_fig, out_txt])\n",
    "\n",
    "demo.launch()"
   ]
  }
 ],
 "metadata": {
  "kernelspec": {
   "display_name": ".venv (3.9.16)",
   "language": "python",
   "name": "python3"
  },
  "language_info": {
   "name": "python",
   "version": "3.9.16"
  }
 },
 "nbformat": 4,
 "nbformat_minor": 5
}
